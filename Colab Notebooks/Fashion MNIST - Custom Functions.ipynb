{
  "nbformat": 4,
  "nbformat_minor": 0,
  "metadata": {
    "colab": {
      "name": "Fashion MNIST - Custom Function.ipynb",
      "provenance": [],
      "collapsed_sections": []
    },
    "kernelspec": {
      "name": "python3",
      "display_name": "Python 3"
    },
    "accelerator": "GPU"
  },
  "cells": [
    {
      "cell_type": "code",
      "metadata": {
        "id": "n_P1-1LWKTJ-"
      },
      "source": [
        "import tensorflow as tf\n",
        "import numpy as np\n",
        "import matplotlib.pyplot as plt\n",
        "# Load the fashion-mnist pre-shuffled train data and test data\n"
      ],
      "execution_count": null,
      "outputs": []
    },
    {
      "cell_type": "code",
      "metadata": {
        "id": "Yk1fP_-fKasH"
      },
      "source": [
        "(x_train, y_train), (x_test, y_test) = tf.keras.datasets.fashion_mnist.load_data()\n",
        "print(\"x_train shape:\", x_train.shape, \"y_train shape:\", y_train.shape)"
      ],
      "execution_count": null,
      "outputs": []
    },
    {
      "cell_type": "code",
      "metadata": {
        "id": "kd7u_ruCKgQr"
      },
      "source": [
        "x_train = x_train.astype('float32') / 255\n",
        "x_test = x_test.astype('float32') / 255"
      ],
      "execution_count": null,
      "outputs": []
    },
    {
      "cell_type": "code",
      "metadata": {
        "id": "Vxt3CKrfLPAz"
      },
      "source": [
        "(x_train, x_valid) = x_train[5000:], x_train[:5000] \n",
        "(y_train, y_valid) = y_train[5000:], y_train[:5000]\n",
        "\n",
        "# Reshape input data from (28, 28) to (28, 28, 1)\n",
        "w, h = 28, 28\n",
        "x_train = x_train.reshape(x_train.shape[0], w, h, 1)\n",
        "x_valid = x_valid.reshape(x_valid.shape[0], w, h, 1)\n",
        "x_test = x_test.reshape(x_test.shape[0], w, h, 1)\n",
        "\n",
        "# One-hot encode the labels\n",
        "y_train = tf.keras.utils.to_categorical(y_train, 10)\n",
        "y_valid = tf.keras.utils.to_categorical(y_valid, 10)\n",
        "y_test = tf.keras.utils.to_categorical(y_test, 10)\n",
        "\n",
        "# Print training set shape\n",
        "print(\"x_train shape:\", x_train.shape, \"y_train shape:\", y_train.shape)\n",
        "\n",
        "# Print the number of training, validation, and test datasets\n",
        "print('Train set', x_train.shape[0])\n",
        "print('Validation set', x_valid.shape[0])\n",
        "print('Test set', x_test.shape[0])"
      ],
      "execution_count": null,
      "outputs": []
    },
    {
      "cell_type": "code",
      "metadata": {
        "id": "p7eZCz0bkmyh"
      },
      "source": [
        "# Custom Activation\n",
        "from keras.utils.generic_utils import get_custom_objects\n",
        "from keras.layers import Activation\n",
        "from keras import backend as K\n",
        "\n",
        "def Generic_Para(x):\n",
        "    return 0.65*K.pow(x,2) + 0.5*x\n",
        "\n",
        "def SBAF_Para(x):\n",
        "    return 1 - x + K.pow(x, 2)\n",
        "\n",
        "k = 1.25\n",
        "def A_ReLU_Para(x):\n",
        "    global k\n",
        "    return k * K.pow(x, 2)\n",
        "\n",
        "def Abs_Func(x):\n",
        "    return K.abs(x)\n",
        "\n",
        "#Not Working\n",
        "def A_ReLU(x):\n",
        "  k = 1.06\n",
        "  n = 1.1\n",
        "  return K.max(0, k*K.pow(x,n))\n",
        "\n",
        "def Leaky_A_ReLU(x):\n",
        "  a = 0.01\n",
        "  k = 1.06\n",
        "  n = 1.1\n",
        "  if x>=0:\n",
        "    return k*K.pow(x,n)\n",
        "  else:\n",
        "    return a*k*K.pow(K.abs(x),n)\n",
        "  \n",
        "get_custom_objects().update({\n",
        "    'Generic_Para': Activation(Generic_Para),\n",
        "    'SBAF_Para': Activation(SBAF_Para),\n",
        "    'A_ReLU_Para': Activation(A_ReLU_Para),\n",
        "    'Abs_Func': Activation(Abs_Func),\n",
        "    'A_ReLU': Activation(A_ReLU),\n",
        "    'Leaky_A_ReLU': Activation(Leaky_A_ReLU)\n",
        "    })\n"
      ],
      "execution_count": null,
      "outputs": []
    },
    {
      "cell_type": "code",
      "metadata": {
        "id": "JNMgoB31Kkui"
      },
      "source": [
        "from keras import Sequential\n",
        "from keras.layers import Conv2D, MaxPooling2D, Dropout, Flatten, Dense\n",
        "\n",
        "model = Sequential()\n",
        "# Must define the input shape in the first layer of the neural network\n",
        "model.add(Conv2D(filters=64, kernel_size=2, padding='same', activation='relu', input_shape=(28,28,1))) \n",
        "model.add(MaxPooling2D(pool_size=2))\n",
        "model.add(Dropout(0.3))\n",
        "model.add(Conv2D(filters=32, kernel_size=2, padding='same', activation='relu'))\n",
        "model.add(MaxPooling2D(pool_size=2))\n",
        "model.add(Dropout(0.3))\n",
        "model.add(Flatten())\n",
        "# model.add(Dense(256, activation='relu'))\n",
        "model.add(Dense(256, activation='Generic_Para'))\n",
        "model.add(Dropout(0.5))\n",
        "model.add(Dense(10, activation='softmax'))\n",
        "# Take a look at the model summary\n",
        "model.summary()\n"
      ],
      "execution_count": null,
      "outputs": []
    },
    {
      "cell_type": "code",
      "metadata": {
        "id": "7gU1NXFCK8sk"
      },
      "source": [
        "model.compile(loss='categorical_crossentropy',\n",
        "             optimizer='adam',\n",
        "             metrics=['accuracy'])\n"
      ],
      "execution_count": null,
      "outputs": []
    },
    {
      "cell_type": "code",
      "metadata": {
        "id": "3_bjfi6PLBfY"
      },
      "source": [
        "from keras.callbacks import ModelCheckpoint\n",
        "\n",
        "checkpointer = ModelCheckpoint(filepath='relu.model.weights.best.hdf5', verbose = 1, save_best_only=True)\n",
        "model.fit(x_train,\n",
        "         y_train,\n",
        "         batch_size=64,\n",
        "         epochs=10,\n",
        "         validation_data=(x_valid, y_valid),\n",
        "         callbacks=[checkpointer])\n"
      ],
      "execution_count": null,
      "outputs": []
    },
    {
      "cell_type": "code",
      "metadata": {
        "id": "hQbNUTEDOLVz"
      },
      "source": [
        "# model.load_weights('model.weights.best.hdf5')\n",
        "score = model.evaluate(x_test, y_test, verbose=0)\n",
        "\n",
        "# Print test accuracy\n",
        "print('\\n', 'Test accuracy:', round(score[1], 5))\n",
        "print('\\n', 'Test Loss:', round(score[0], 5))"
      ],
      "execution_count": null,
      "outputs": []
    }
  ]
}