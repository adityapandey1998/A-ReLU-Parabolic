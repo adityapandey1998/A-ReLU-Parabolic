{
 "cells": [
  {
   "cell_type": "code",
   "execution_count": 1,
   "metadata": {},
   "outputs": [],
   "source": [
    "import warnings\n",
    "warnings.simplefilter(action='ignore', category=FutureWarning)\n",
    "\n",
    "import numpy as np\n",
    "import os\n",
    "\n",
    "os.environ['TF_CPP_MIN_LOG_LEVEL'] = '3' \n",
    "\n",
    "import tensorflow as tf"
   ]
  },
  {
   "cell_type": "code",
   "execution_count": 2,
   "metadata": {},
   "outputs": [],
   "source": [
    "def generic_para_func(x):\n",
    "    return 0.65*x*x + 0.5*x\n",
    "\n",
    "np_generic_para_func = np.vectorize(generic_para_func)\n"
   ]
  },
  {
   "cell_type": "code",
   "execution_count": 3,
   "metadata": {},
   "outputs": [],
   "source": [
    "def d_generic_para_func(x):\n",
    "    return 1.3*x + 0.5\n",
    "    \n",
    "np_d_generic_para_func = np.vectorize(d_generic_para_func)\n",
    "\n",
    "np_d_generic_para_func_32 = lambda x: np_d_generic_para_func(x).astype(np.float32)\n"
   ]
  },
  {
   "cell_type": "code",
   "execution_count": 4,
   "metadata": {},
   "outputs": [],
   "source": [
    "def tf_d_generic_para_func(x, name=None):\n",
    "    with tf.name_scope(name, \"d_generic_paraFunc\", [x]) as name:\n",
    "        y = tf.py_func(np_d_generic_para_func_32,\n",
    "                        [x],\n",
    "                        [tf.float32],\n",
    "                        name=name,\n",
    "                        stateful=False)\n",
    "        return y[0]\n"
   ]
  },
  {
   "cell_type": "code",
   "execution_count": 5,
   "metadata": {},
   "outputs": [],
   "source": [
    "def py_func(func, inp, Tout, stateful=True, name=None, grad=None):\n",
    "    # Need to generate a unique name to avoid duplicates:\n",
    "    rnd_name = 'PyFuncGrad' + str(np.random.randint(0, 1E+8))\n",
    "\n",
    "    tf.RegisterGradient(rnd_name)(grad)\n",
    "    g = tf.get_default_graph()\n",
    "    with g.gradient_override_map({\"PyFunc\": rnd_name}):\n",
    "        return tf.py_func(func, inp, Tout, stateful=stateful, name=name)\n",
    "    \n",
    "def generic_para_funcgrad(op, grad):\n",
    "    x = op.inputs[0]\n",
    "    \n",
    "    n_gr = tf_d_generic_para_func(x)\n",
    "    return grad * n_gr\n",
    "\n",
    "np_generic_para_func_32 = lambda x: np_generic_para_func(x).astype(np.float32)\n"
   ]
  },
  {
   "cell_type": "code",
   "execution_count": 6,
   "metadata": {},
   "outputs": [],
   "source": [
    "def tf_generic_para_func(x, name=None):\n",
    "\n",
    "    with tf.name_scope(name, \"generic_paraFunc\", [x]) as name:\n",
    "        y = py_func(np_generic_para_func_32,\n",
    "                        [x],\n",
    "                        [tf.float32],\n",
    "                        name=name,\n",
    "                        grad=generic_para_funcgrad)\n",
    "        return y[0]\n"
   ]
  },
  {
   "cell_type": "code",
   "execution_count": null,
   "metadata": {},
   "outputs": [],
   "source": []
  }
 ],
 "metadata": {
  "kernelspec": {
   "display_name": "Python 3.7.3 64-bit ('base': conda)",
   "language": "python",
   "name": "python37364bitbaseconda10eb8a4a7a8449a2a0e31935e7ff31fa"
  },
  "language_info": {
   "codemirror_mode": {
    "name": "ipython",
    "version": 3
   },
   "file_extension": ".py",
   "mimetype": "text/x-python",
   "name": "python",
   "nbconvert_exporter": "python",
   "pygments_lexer": "ipython3",
   "version": "3.7.6"
  }
 },
 "nbformat": 4,
 "nbformat_minor": 4
}
